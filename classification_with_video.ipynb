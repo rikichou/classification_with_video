{
 "cells": [
  {
   "cell_type": "markdown",
   "metadata": {},
   "source": [
    "### 1. 视频读取接口"
   ]
  },
  {
   "cell_type": "code",
   "execution_count": 13,
   "metadata": {},
   "outputs": [],
   "source": [
    "import cv2\n",
    "import numpy as np\n",
    "import time\n",
    "import matplotlib.pyplot as plt\n",
    "%matplotlib inline\n",
    "\n",
    "def classification_with_vedio(model, image_size, video_name_or_link, decode):\n",
    "    \n",
    "    cap = cv2.VideoCapture(video_name_or_link)\n",
    "    \n",
    "    if(cap.isOpened() == False):\n",
    "        print (\"Failed to open \" + video_name_or_link)\n",
    "        return\n",
    "    \n",
    "    while True:\n",
    "        # get fram\n",
    "        ret, frame = cap.read()\n",
    "        \n",
    "        # check if the video is over\n",
    "        if(ret != True):\n",
    "            print (\"Ending!\")\n",
    "            break\n",
    "        \n",
    "        # resize fram\n",
    "        img_for_model = cv2.resize(frame, image_size)\n",
    "        \n",
    "        # change shape\n",
    "        img_for_model= np.expand_dims(img_for_model,axis=0)\n",
    "        \n",
    "        # model predict\n",
    "        start = time.time()\n",
    "        preds = model.predict(img_for_model)\n",
    "        end = time.time()\n",
    "        # add text\n",
    "        text = 'Predicted:' + decode(preds, top=1)[0][0][1] + ' time:' + str(end-start)\n",
    "        \n",
    "        # show frame\n",
    "        cv2.putText(frame, text, (100, 200), cv2.FONT_HERSHEY_SIMPLEX, 0.7, (255, 0, 0), 2, cv2.LINE_AA)\n",
    "        cv2.imshow('image', frame)\n",
    "        #cv2.moveWindow('image', 0, 0)\n",
    "        if cv2.waitKey(1) & 0xFF == ord('q'):\n",
    "            break\n",
    "        \n",
    "    cap.release()\n",
    "    cv2.destroyAllWindows()"
   ]
  },
  {
   "cell_type": "markdown",
   "metadata": {},
   "source": [
    "### 2. 模型搭建接口"
   ]
  },
  {
   "cell_type": "code",
   "execution_count": 5,
   "metadata": {},
   "outputs": [
    {
     "name": "stderr",
     "output_type": "stream",
     "text": [
      "/home/riki/anaconda3/envs/py3/lib/python3.6/site-packages/h5py/__init__.py:34: FutureWarning: Conversion of the second argument of issubdtype from `float` to `np.floating` is deprecated. In future, it will be treated as `np.float64 == np.dtype(float).type`.\n",
      "  from ._conv import register_converters as _register_converters\n",
      "Using TensorFlow backend.\n"
     ]
    }
   ],
   "source": [
    "from keras.applications import resnet50,xception\n",
    "from keras.layers import Input,Lambda\n",
    "\n",
    "resNet_input_shape = (299,299,3)\n",
    "res_x = Input(shape=resNet_input_shape)\n",
    "res_x = Lambda(xception.preprocess_input)(res_x)\n",
    "res_model = xception.Xception(include_top=True, weights='imagenet', input_tensor=res_x)"
   ]
  },
  {
   "cell_type": "markdown",
   "metadata": {},
   "source": [
    "###  3. 视频帧分类"
   ]
  },
  {
   "cell_type": "code",
   "execution_count": 14,
   "metadata": {},
   "outputs": [],
   "source": [
    "classification_with_vedio(res_model, (299, 299), './animal.mp4', resnet50.decode_predictions)"
   ]
  }
 ],
 "metadata": {
  "kernelspec": {
   "display_name": "Python 3",
   "language": "python",
   "name": "python3"
  },
  "language_info": {
   "codemirror_mode": {
    "name": "ipython",
    "version": 3
   },
   "file_extension": ".py",
   "mimetype": "text/x-python",
   "name": "python",
   "nbconvert_exporter": "python",
   "pygments_lexer": "ipython3",
   "version": "3.6.4"
  }
 },
 "nbformat": 4,
 "nbformat_minor": 2
}
